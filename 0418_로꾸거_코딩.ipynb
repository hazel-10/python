{
  "nbformat": 4,
  "nbformat_minor": 0,
  "metadata": {
    "colab": {
      "provenance": [],
      "authorship_tag": "ABX9TyNZ9bznNF3J3J6dXHk2ikMQ",
      "include_colab_link": true
    },
    "kernelspec": {
      "name": "python3",
      "display_name": "Python 3"
    },
    "language_info": {
      "name": "python"
    }
  },
  "cells": [
    {
      "cell_type": "markdown",
      "metadata": {
        "id": "view-in-github",
        "colab_type": "text"
      },
      "source": [
        "<a href=\"https://colab.research.google.com/github/hazel-10/python/blob/main/0418_%EB%A1%9C%EA%BE%B8%EA%B1%B0_%EC%BD%94%EB%94%A9.ipynb\" target=\"_parent\"><img src=\"https://colab.research.google.com/assets/colab-badge.svg\" alt=\"Open In Colab\"/></a>"
      ]
    },
    {
      "cell_type": "markdown",
      "source": [
        "로꾸거 코딩!\n",
        "\n",
        "\n",
        "\n",
        "\n",
        "- 문자열을 입력받아 팰린드롬인지 판별하라<br>\n",
        "  *팰린드롬이란 거꾸로 읽어도 똑같은 문장 또는 단어<br>\n",
        "    ex) '기러기', 'mom' 등"
      ],
      "metadata": {
        "id": "1hIeOYm2ukQq"
      }
    },
    {
      "cell_type": "code",
      "execution_count": 11,
      "metadata": {
        "colab": {
          "base_uri": "https://localhost:8080/"
        },
        "id": "hvNld_ri4PG_",
        "outputId": "675c18b9-0bbd-463f-e9f1-16807b77e4fc"
      },
      "outputs": [
        {
          "name": "stdout",
          "output_type": "stream",
          "text": [
            "팰린드롬을 판별할 문자열을 입력하세요 \n",
            "Wow\n"
          ]
        }
      ],
      "source": [
        "A=input(\"팰린드롬을 판별할 문자열을 입력하세요 \\n\")"
      ]
    },
    {
      "cell_type": "code",
      "source": [
        "def palindrome(a):\n",
        "    new = a.lower()\n",
        "    new = new.replace(\" \", \"\")\n",
        "    return new == new[::-1]\n"
      ],
      "metadata": {
        "id": "SltZJHbJ4oxC"
      },
      "execution_count": 9,
      "outputs": []
    },
    {
      "cell_type": "code",
      "source": [
        "palindrome(A)"
      ],
      "metadata": {
        "colab": {
          "base_uri": "https://localhost:8080/"
        },
        "id": "mOmZWsh14ycr",
        "outputId": "2142b2ca-3508-4bb3-d78e-0e34f50a1448"
      },
      "execution_count": 12,
      "outputs": [
        {
          "output_type": "execute_result",
          "data": {
            "text/plain": [
              "True"
            ]
          },
          "metadata": {},
          "execution_count": 12
        }
      ]
    },
    {
      "cell_type": "code",
      "source": [
        "print(palindrome(\"Mom\"))\n",
        "print(palindrome(\"mom\"))"
      ],
      "metadata": {
        "colab": {
          "base_uri": "https://localhost:8080/"
        },
        "id": "FDF4QnJFv_a4",
        "outputId": "17d029e1-10bd-4359-c89b-6480bda06a93"
      },
      "execution_count": 13,
      "outputs": [
        {
          "output_type": "stream",
          "name": "stdout",
          "text": [
            "True\n",
            "True\n"
          ]
        }
      ]
    }
  ]
}