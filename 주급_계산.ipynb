{
  "nbformat": 4,
  "nbformat_minor": 0,
  "metadata": {
    "colab": {
      "provenance": [],
      "authorship_tag": "ABX9TyPECmKVeWnwTBJjzp8E8rtG",
      "include_colab_link": true
    },
    "kernelspec": {
      "name": "python3",
      "display_name": "Python 3"
    },
    "language_info": {
      "name": "python"
    }
  },
  "cells": [
    {
      "cell_type": "markdown",
      "metadata": {
        "id": "view-in-github",
        "colab_type": "text"
      },
      "source": [
        "<a href=\"https://colab.research.google.com/github/hazel-10/python/blob/main/%EC%A3%BC%EA%B8%89_%EA%B3%84%EC%82%B0.ipynb\" target=\"_parent\"><img src=\"https://colab.research.google.com/assets/colab-badge.svg\" alt=\"Open In Colab\"/></a>"
      ]
    },
    {
      "cell_type": "markdown",
      "source": [
        "<h1>주급 계산</>\n",
        "\n",
        "조건\n",
        "- 12시간 초과시 초과 분은 기본 시급의 1.3배 지급<br>\n",
        "ex) 15시간 근무시 12시간(기본급) + 3시간(1.3배)\n"
      ],
      "metadata": {
        "id": "lyYj6OdosFct"
      }
    },
    {
      "cell_type": "code",
      "source": [
        "def regular_pay(hours,wage):\n",
        "    return hours * wage"
      ],
      "metadata": {
        "id": "fJcVEMIRtE-l"
      },
      "execution_count": 15,
      "outputs": []
    },
    {
      "cell_type": "code",
      "source": [
        "def overtime_pay(work_hours,wage):\n",
        "    standard_hours=12\n",
        "    overtime_rate=1.3\n",
        "    timeInLieu = work_hours - standard_hours\n",
        "\n",
        "    return (standard_hours * wage) + (timeInLieu * wage * overtime_rate)"
      ],
      "metadata": {
        "id": "zva_muJ3tUZ0"
      },
      "execution_count": 8,
      "outputs": []
    },
    {
      "cell_type": "code",
      "source": [
        "pay_calc = {\n",
        "    True : regular_pay,\n",
        "    False : overtime_pay\n",
        "}\n",
        "\n",
        "hours = float(input(\"총 주당 근무시간 : \"))\n",
        "wage = float(input(\"시급 : \"))\n",
        "\n",
        "total_pay = pay_calc[hours <= 12](hours, wage)\n",
        "\n",
        "print(\"주급은 {:.2f}입니다.\".format(total_pay))"
      ],
      "metadata": {
        "colab": {
          "base_uri": "https://localhost:8080/"
        },
        "id": "ItOyTLB9vJSs",
        "outputId": "6b11a03f-e251-454e-932f-2ab1fc8c9406"
      },
      "execution_count": 20,
      "outputs": [
        {
          "output_type": "stream",
          "name": "stdout",
          "text": [
            "총 주당 근무시간 : 21\n",
            "시급 : 23.23\n",
            "주급은 550.55입니다.\n"
          ]
        }
      ]
    }
  ]
}