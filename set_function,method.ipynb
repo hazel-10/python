{
  "nbformat": 4,
  "nbformat_minor": 0,
  "metadata": {
    "colab": {
      "provenance": [],
      "collapsed_sections": [
        "DXSFQIAKF2h7",
        "GwsVwGzMxkvl"
      ],
      "include_colab_link": true
    },
    "kernelspec": {
      "name": "python3",
      "display_name": "Python 3"
    },
    "language_info": {
      "name": "python"
    }
  },
  "cells": [
    {
      "cell_type": "markdown",
      "metadata": {
        "id": "view-in-github",
        "colab_type": "text"
      },
      "source": [
        "<a href=\"https://colab.research.google.com/github/hazel-10/python/blob/main/%EC%B5%9C%ED%9D%AC%EC%A7%84_set_function%2Cmethod.ipynb\" target=\"_parent\"><img src=\"https://colab.research.google.com/assets/colab-badge.svg\" alt=\"Open In Colab\"/></a>"
      ]
    },
    {
      "cell_type": "markdown",
      "source": [
        "※set = 고유한 item 들의 정렬되지 않은 모음\n",
        "\n",
        "##Set function\n",
        "\n",
        "---\n",
        "\n",
        "\n",
        "|function|Description|\n",
        "|--|--|\n",
        "|all()|모든 요소가 참이거나 비어 있으면 True를 반환|\n",
        "|any()|요소 중 하나라도 참이면 True를 반환|\n",
        "|enumerate()|각 요소에 인덱스를 부여하여 (인덱스, 요소) 형태의 튜플을 생성하는 enumerate 객체를 반환|\n",
        "|len()|요소 개수를 반환|\n",
        "|max()|가장 큰 요소를 반환|\n",
        "|min()|가장 작은 요소를 반환|\n",
        "|sorted()|모든 항목에서 오름차순으로 재정렬 된 목록을 반환|\n",
        "|sum()|모든 요소의 더한 값을 반환|\n",
        "\n",
        "\n"
      ],
      "metadata": {
        "id": "DXSFQIAKF2h7"
      }
    },
    {
      "cell_type": "code",
      "source": [
        "#all() 예시\n",
        "A={1,\"a\",17.5}\n",
        "B={0,'b',16.3}\n",
        "print(all(A)) #output:True\n",
        "print(all(B)) #output:False"
      ],
      "metadata": {
        "colab": {
          "base_uri": "https://localhost:8080/"
        },
        "id": "1Gdi6z2DxpY6",
        "outputId": "f1aa7b08-6c17-4657-cb7e-badf683e2fa5"
      },
      "execution_count": null,
      "outputs": [
        {
          "output_type": "stream",
          "name": "stdout",
          "text": [
            "True\n",
            "False\n"
          ]
        }
      ]
    },
    {
      "cell_type": "code",
      "source": [
        "#any() 예시\n",
        "A={1,\"a\",17.5}\n",
        "B={0,'b',16.3}\n",
        "print(any(A)) #output:True\n",
        "print(any(B)) #output:True"
      ],
      "metadata": {
        "colab": {
          "base_uri": "https://localhost:8080/"
        },
        "id": "Zdc88BzqxpQ5",
        "outputId": "dedf12fa-4c85-4e23-cf68-0afde8fc6164"
      },
      "execution_count": null,
      "outputs": [
        {
          "output_type": "stream",
          "name": "stdout",
          "text": [
            "True\n",
            "True\n"
          ]
        }
      ]
    },
    {
      "cell_type": "code",
      "source": [
        "#enumerate() 예시\n",
        "animal={'강아지','고양이','거북이'}\n",
        "for index, value in enumerate(animal):\n",
        "  print(index, value) #set는 순서 없음"
      ],
      "metadata": {
        "colab": {
          "base_uri": "https://localhost:8080/"
        },
        "id": "O262qchXxpJV",
        "outputId": "58c19743-b159-4f55-e3aa-7442fdeb1a3a"
      },
      "execution_count": null,
      "outputs": [
        {
          "output_type": "stream",
          "name": "stdout",
          "text": [
            "0 거북이\n",
            "1 고양이\n",
            "2 강아지\n"
          ]
        }
      ]
    },
    {
      "cell_type": "code",
      "source": [
        "#len() 예시\n",
        "print(len(animal))"
      ],
      "metadata": {
        "colab": {
          "base_uri": "https://localhost:8080/"
        },
        "id": "omevGOdhxpB_",
        "outputId": "a76ccc35-9dbb-4bfd-fd2b-b07f35ca0a6a"
      },
      "execution_count": null,
      "outputs": [
        {
          "output_type": "stream",
          "name": "stdout",
          "text": [
            "3\n"
          ]
        }
      ]
    },
    {
      "cell_type": "code",
      "source": [
        "#max() 예시\n",
        "num={1,5,2,6,8,5,7}\n",
        "print(max(num))"
      ],
      "metadata": {
        "colab": {
          "base_uri": "https://localhost:8080/"
        },
        "id": "fIy2_FawxoVp",
        "outputId": "3174032a-5016-4f8f-aa58-95241046bcf4"
      },
      "execution_count": null,
      "outputs": [
        {
          "output_type": "stream",
          "name": "stdout",
          "text": [
            "8\n"
          ]
        }
      ]
    },
    {
      "cell_type": "code",
      "source": [
        "#min() 예시\n",
        "print(min(num))"
      ],
      "metadata": {
        "colab": {
          "base_uri": "https://localhost:8080/"
        },
        "id": "cvv-USr7xoLl",
        "outputId": "3fe99a59-34bd-406a-b53f-578e4d685381"
      },
      "execution_count": null,
      "outputs": [
        {
          "output_type": "stream",
          "name": "stdout",
          "text": [
            "1\n"
          ]
        }
      ]
    },
    {
      "cell_type": "code",
      "source": [
        "#sorted() 예시\n",
        "print(sorted(num))\n"
      ],
      "metadata": {
        "colab": {
          "base_uri": "https://localhost:8080/"
        },
        "id": "2Ckq69HqxoDf",
        "outputId": "e711b4c2-97e0-47fa-c6ad-aad56fc04786"
      },
      "execution_count": null,
      "outputs": [
        {
          "output_type": "stream",
          "name": "stdout",
          "text": [
            "[1, 2, 5, 6, 7, 8]\n"
          ]
        }
      ]
    },
    {
      "cell_type": "code",
      "source": [
        "#sum() 예시\n",
        "print(sum(num))"
      ],
      "metadata": {
        "colab": {
          "base_uri": "https://localhost:8080/"
        },
        "id": "NljcEfOtxnlH",
        "outputId": "e0d137c8-79f4-4794-eb89-c9b0a4037adf"
      },
      "execution_count": null,
      "outputs": [
        {
          "output_type": "stream",
          "name": "stdout",
          "text": [
            "29\n"
          ]
        }
      ]
    },
    {
      "cell_type": "markdown",
      "source": [
        "\n",
        "##Set method\n",
        "|method|Description|\n",
        "|--|--|\n",
        "|add()|set에 요소 추가|\n",
        "|clear()|set의 모든 요소 제거|\n",
        "|copy()|set을 복사|\n",
        "|difference()|다른 set의 요소를 제외한 차집합을 반환|\n",
        "|difference_update()|다른 set에 있는 요소를 제거|\n",
        "|discard()|set에서 요소를 제거 (요소가 없어도 오류 x)|\n",
        "|intersection()|다른 set과의 교집합 반환|\n",
        "|intersection_update()|다른 set과의 교집합으로 set 업데이트|\n",
        "|isdisjoint()|다른 set과 공통 요소를 가지지 않으면 true 반환|\n",
        "|issubset()|이 set의 모든 요소가 다른 set에 포함되면 true 반환|\n",
        "|ssuperset()|다른 set의 모든 요소가 이 set에 포함되면 true 반환|\n",
        "|pop()|특정 요소를 제거하고 반환(set이 비면 keyerror 발생)|\n",
        "|remove()|요소를 제거|\n",
        "|symmetric_difference()|이 set과 다른 set의 대칭 차집합을 반환|\n",
        "|symmetric_difference_update()|이 set를 다른 set과의 대칭 차집합으로 업데이트|\n",
        "|union()|이 set와 다른 set의 합집합을 반환\n",
        "|update()|이 set에 다른 set의 요소를 추가하여 합집합으로 업데이트"
      ],
      "metadata": {
        "id": "GwsVwGzMxkvl"
      }
    },
    {
      "cell_type": "code",
      "source": [
        "#*.add() 예시\n",
        "AA={'a','b','c',1,2}\n",
        "new.add(3)\n",
        "print(AA)"
      ],
      "metadata": {
        "id": "S-C9aOI-s7Mn",
        "colab": {
          "base_uri": "https://localhost:8080/"
        },
        "outputId": "68bed6c6-f054-46e1-decf-b162b2e87ca3"
      },
      "execution_count": null,
      "outputs": [
        {
          "output_type": "stream",
          "name": "stdout",
          "text": [
            "{1, 2, 'b', 'c', 'a'}\n"
          ]
        }
      ]
    },
    {
      "cell_type": "code",
      "source": [
        "#*.clear() 예시\n",
        "BB={'a','b','c',1,2}\n",
        "BB.clear()\n",
        "print(BB)"
      ],
      "metadata": {
        "colab": {
          "base_uri": "https://localhost:8080/"
        },
        "id": "6EOdiLV0Vgvi",
        "outputId": "27207557-ab5c-46a3-cc27-70b0f132c347"
      },
      "execution_count": null,
      "outputs": [
        {
          "output_type": "stream",
          "name": "stdout",
          "text": [
            "set()\n"
          ]
        }
      ]
    },
    {
      "cell_type": "code",
      "source": [
        "#*.copy() 예시\n",
        "CC={'a','b','c',1,2}\n",
        "DD=CC.copy()\n",
        "print(CC)\n",
        "print(DD)"
      ],
      "metadata": {
        "colab": {
          "base_uri": "https://localhost:8080/"
        },
        "id": "20bet10DVgny",
        "outputId": "a9ae78cd-05d8-4c9f-92c7-61d64f5e5fbc"
      },
      "execution_count": null,
      "outputs": [
        {
          "output_type": "stream",
          "name": "stdout",
          "text": [
            "{1, 2, 'b', 'c', 'a'}\n",
            "{1, 2, 'b', 'c', 'a'}\n"
          ]
        }
      ]
    },
    {
      "cell_type": "code",
      "source": [
        "#*.difference() 예시\n",
        "EE={1,2,3,4,5}\n",
        "FF={1,3,5,7,9}\n",
        "print(EE.difference(FF))\n",
        "print(EE)"
      ],
      "metadata": {
        "colab": {
          "base_uri": "https://localhost:8080/"
        },
        "id": "XzXfMybIVgej",
        "outputId": "d6a0e19a-442d-45ba-9f9f-4a16d6959722"
      },
      "execution_count": null,
      "outputs": [
        {
          "output_type": "stream",
          "name": "stdout",
          "text": [
            "{2, 4}\n",
            "{1, 2, 3, 4, 5}\n"
          ]
        }
      ]
    },
    {
      "cell_type": "code",
      "source": [
        "#*.difference_update() 예시\n",
        "EE={1,2,3,4,5}\n",
        "FF={1,3,5,7,9}\n",
        "EE.difference_update(FF)\n",
        "print(EE)"
      ],
      "metadata": {
        "colab": {
          "base_uri": "https://localhost:8080/"
        },
        "id": "Cq_33_P7VgWV",
        "outputId": "a5f1d183-ddb1-4081-f4eb-1d139cebfa41"
      },
      "execution_count": null,
      "outputs": [
        {
          "output_type": "stream",
          "name": "stdout",
          "text": [
            "{2, 4}\n"
          ]
        }
      ]
    },
    {
      "cell_type": "code",
      "source": [
        "#*.discard() 예시\n",
        "print(FF)\n",
        "FF.discard(5)\n",
        "print(FF)"
      ],
      "metadata": {
        "colab": {
          "base_uri": "https://localhost:8080/"
        },
        "id": "2FSSZXZtVgO5",
        "outputId": "efa0480c-efe6-40c1-fe07-59d8dbc2b0a9"
      },
      "execution_count": null,
      "outputs": [
        {
          "output_type": "stream",
          "name": "stdout",
          "text": [
            "{1, 3, 5, 7, 9}\n",
            "{1, 3, 7, 9}\n"
          ]
        }
      ]
    },
    {
      "cell_type": "code",
      "source": [
        "#*.intersection() 예시\n",
        "GG={1,2,3,4,5}\n",
        "HH={1,3,5,7,9}\n",
        "print(GG.intersection(HH))\n",
        "print(GG)"
      ],
      "metadata": {
        "colab": {
          "base_uri": "https://localhost:8080/"
        },
        "id": "3_DCuyeiVgHq",
        "outputId": "5c28ba22-07ee-4eef-9e40-0585c90a22bb"
      },
      "execution_count": null,
      "outputs": [
        {
          "output_type": "stream",
          "name": "stdout",
          "text": [
            "{1, 3, 5}\n",
            "{1, 2, 3, 4, 5}\n"
          ]
        }
      ]
    },
    {
      "cell_type": "code",
      "source": [
        "#*.intersection_update() 예시\n",
        "GG={1,2,3,4,5}\n",
        "HH={1,3,5,7,9}\n",
        "GG.intersection_update(HH)\n",
        "print(GG)"
      ],
      "metadata": {
        "colab": {
          "base_uri": "https://localhost:8080/"
        },
        "id": "qcQwM-CUVgAB",
        "outputId": "c8bb6de2-811a-4c34-b559-85a47a89a1e1"
      },
      "execution_count": null,
      "outputs": [
        {
          "output_type": "stream",
          "name": "stdout",
          "text": [
            "{1, 3, 5}\n"
          ]
        }
      ]
    },
    {
      "cell_type": "code",
      "source": [
        "#*.isdisjoint() 예시\n",
        "II={1,2,3,4,5}\n",
        "JJ={3,4,5,6,7}\n",
        "KK={11,12,13,14,15}\n",
        "print(II.isdisjoint(JJ))\n",
        "print(II.isdisjoint(KK))"
      ],
      "metadata": {
        "colab": {
          "base_uri": "https://localhost:8080/"
        },
        "id": "afRAOWCqVf42",
        "outputId": "103941a8-5909-41a2-ee11-b77f3d866570"
      },
      "execution_count": null,
      "outputs": [
        {
          "output_type": "stream",
          "name": "stdout",
          "text": [
            "False\n",
            "True\n"
          ]
        }
      ]
    },
    {
      "cell_type": "code",
      "source": [
        "#*.issubset() 예시\n",
        "JJ={3,4,5,6,7}\n",
        "LL={3,4,5}\n",
        "print(JJ.issubset(LL))"
      ],
      "metadata": {
        "colab": {
          "base_uri": "https://localhost:8080/"
        },
        "id": "c3F1Jfn8VfyC",
        "outputId": "8bb7e527-6970-44ad-d8f8-293eb62da511"
      },
      "execution_count": null,
      "outputs": [
        {
          "output_type": "stream",
          "name": "stdout",
          "text": [
            "False\n"
          ]
        }
      ]
    },
    {
      "cell_type": "code",
      "source": [
        "#*.issuperset() 예시\n",
        "JJ={3,4,5,6,7}\n",
        "LL={3,4,5}\n",
        "print(JJ.issuperset(LL))"
      ],
      "metadata": {
        "colab": {
          "base_uri": "https://localhost:8080/"
        },
        "id": "WRneL4doVfop",
        "outputId": "b8d5df9e-3444-477a-c9b4-944439d134e5"
      },
      "execution_count": null,
      "outputs": [
        {
          "output_type": "stream",
          "name": "stdout",
          "text": [
            "True\n"
          ]
        }
      ]
    },
    {
      "cell_type": "code",
      "source": [
        "#*.pop() 예시\n",
        "print(JJ.pop())\n",
        "print(JJ)"
      ],
      "metadata": {
        "colab": {
          "base_uri": "https://localhost:8080/"
        },
        "id": "uhnJ-BwsVffz",
        "outputId": "44e5428a-8df7-4085-ea16-2edbc4d0d41a"
      },
      "execution_count": null,
      "outputs": [
        {
          "output_type": "stream",
          "name": "stdout",
          "text": [
            "3\n",
            "{4, 5, 6, 7}\n"
          ]
        }
      ]
    },
    {
      "cell_type": "code",
      "source": [
        "#*.remove() 예시\n",
        "KK={11,12,13,14,15}\n",
        "print(KK.remove(11))\n",
        "print(KK)"
      ],
      "metadata": {
        "colab": {
          "base_uri": "https://localhost:8080/"
        },
        "id": "SBfazljXVfQd",
        "outputId": "29cfba28-74f3-40c6-baf1-ac8ae6ce69c4"
      },
      "execution_count": null,
      "outputs": [
        {
          "output_type": "stream",
          "name": "stdout",
          "text": [
            "None\n",
            "{12, 13, 14, 15}\n"
          ]
        }
      ]
    },
    {
      "cell_type": "code",
      "source": [
        "#*.symmetric_difference() 예시\n",
        "JJ={3,4,5,6,7}\n",
        "KK={11,12,13,14,15}\n",
        "print(JJ.symmetric_difference(KK))\n",
        "print(JJ)"
      ],
      "metadata": {
        "colab": {
          "base_uri": "https://localhost:8080/"
        },
        "id": "aMcu4RJXVeNz",
        "outputId": "e1c96d33-b600-48c1-e3a6-20ff12522d32"
      },
      "execution_count": null,
      "outputs": [
        {
          "output_type": "stream",
          "name": "stdout",
          "text": [
            "{3, 4, 5, 6, 7, 11, 12, 13, 14, 15}\n",
            "{3, 4, 5, 6, 7}\n"
          ]
        }
      ]
    },
    {
      "cell_type": "code",
      "source": [
        "#*.symmetric_difference_update() 예시\n",
        "JJ={3,4,5,6,7}\n",
        "KK={11,12,13,14,15}\n",
        "print(JJ.symmetric_difference_update(KK))\n",
        "print(JJ)"
      ],
      "metadata": {
        "colab": {
          "base_uri": "https://localhost:8080/"
        },
        "id": "fTPMXNxvVeEu",
        "outputId": "733c99e4-bf91-49c2-d5cc-e13889dcebe1"
      },
      "execution_count": null,
      "outputs": [
        {
          "output_type": "stream",
          "name": "stdout",
          "text": [
            "None\n",
            "{3, 4, 5, 6, 7, 11, 12, 13, 14, 15}\n"
          ]
        }
      ]
    },
    {
      "cell_type": "code",
      "source": [
        "#*.union() 예시\n",
        "II={1,2,3,4,5}\n",
        "JJ={3,4,5,6,7}\n",
        "print(II.union(JJ))\n",
        "print(II)"
      ],
      "metadata": {
        "colab": {
          "base_uri": "https://localhost:8080/"
        },
        "id": "j6Y2GiyCVd7w",
        "outputId": "d41fa5c0-ea7c-4c57-c0d0-1d577329e7b6"
      },
      "execution_count": null,
      "outputs": [
        {
          "output_type": "stream",
          "name": "stdout",
          "text": [
            "{1, 2, 3, 4, 5, 6, 7}\n",
            "{1, 2, 3, 4, 5}\n"
          ]
        }
      ]
    },
    {
      "cell_type": "code",
      "source": [
        "#*.update() 예시\n",
        "II={1,2,3,4,5}\n",
        "JJ={3,4,5,6,7}\n",
        "print(II.update(JJ))\n",
        "print(II)"
      ],
      "metadata": {
        "colab": {
          "base_uri": "https://localhost:8080/"
        },
        "id": "BjRydzUcVdx0",
        "outputId": "0583c900-16bc-46f8-9cc6-6d986ac2b0c1"
      },
      "execution_count": null,
      "outputs": [
        {
          "output_type": "stream",
          "name": "stdout",
          "text": [
            "None\n",
            "{1, 2, 3, 4, 5, 6, 7}\n"
          ]
        }
      ]
    }
  ]
}
