{
  "nbformat": 4,
  "nbformat_minor": 0,
  "metadata": {
    "colab": {
      "provenance": [],
      "authorship_tag": "ABX9TyMBQ28uUS/FXBhkWQWd/mjH",
      "include_colab_link": true
    },
    "kernelspec": {
      "name": "python3",
      "display_name": "Python 3"
    },
    "language_info": {
      "name": "python"
    }
  },
  "cells": [
    {
      "cell_type": "markdown",
      "metadata": {
        "id": "view-in-github",
        "colab_type": "text"
      },
      "source": [
        "<a href=\"https://colab.research.google.com/github/hazel-10/python/blob/main/0319_%ED%9D%90%EB%A6%84%EC%A0%9C%EC%96%B4.ipynb\" target=\"_parent\"><img src=\"https://colab.research.google.com/assets/colab-badge.svg\" alt=\"Open In Colab\"/></a>"
      ]
    },
    {
      "cell_type": "markdown",
      "source": [
        "IF 조건문 예시"
      ],
      "metadata": {
        "id": "Vmb-WWeDOSuW"
      }
    },
    {
      "cell_type": "code",
      "execution_count": null,
      "metadata": {
        "colab": {
          "base_uri": "https://localhost:8080/"
        },
        "id": "dqGB9NzcNRgO",
        "outputId": "55bef2ee-587c-4bc3-f812-4dee75581d80"
      },
      "outputs": [
        {
          "output_type": "stream",
          "name": "stdout",
          "text": [
            "3 is a positive number.\n",
            "항상 출력\n"
          ]
        }
      ],
      "source": [
        "num=3\n",
        "if num > 0 :\n",
        "  print(num,\"is a positive number.\")\n",
        "print(\"항상 출력\")"
      ]
    },
    {
      "cell_type": "code",
      "source": [
        "num=-1\n",
        "if num > 0 :\n",
        "  print(num,\"is a positive number.\") # 조건이 만족하지 않아서 실행하지 않음\n",
        "print(\"항상 출력\")"
      ],
      "metadata": {
        "colab": {
          "base_uri": "https://localhost:8080/"
        },
        "id": "It-9idJYN0HP",
        "outputId": "f247187b-fdeb-4581-b050-a937b363d9fb"
      },
      "execution_count": null,
      "outputs": [
        {
          "output_type": "stream",
          "name": "stdout",
          "text": [
            "항상 출력\n"
          ]
        }
      ]
    },
    {
      "cell_type": "markdown",
      "source": [
        "if else 문"
      ],
      "metadata": {
        "id": "B_v9OTaSO3j2"
      }
    },
    {
      "cell_type": "code",
      "source": [
        "num=3\n",
        "if num > 0 :\n",
        "  print(\"positive number or zero\")\n",
        "else :\n",
        "  print(\"negative number\")"
      ],
      "metadata": {
        "colab": {
          "base_uri": "https://localhost:8080/"
        },
        "id": "m0mwTLmxO39-",
        "outputId": "13c411d2-5420-4e07-c944-d3ae713e6526"
      },
      "execution_count": null,
      "outputs": [
        {
          "output_type": "stream",
          "name": "stdout",
          "text": [
            "positive number or zero\n"
          ]
        }
      ]
    },
    {
      "cell_type": "markdown",
      "source": [
        "if...elif..else 문\n",
        "- 조건이 여러개 있는 경우 사용"
      ],
      "metadata": {
        "id": "QFr7LhzyP5te"
      }
    },
    {
      "cell_type": "code",
      "source": [
        "num=3.4\n",
        "\n",
        "if num>0:  # 조건 1\n",
        "  print('postive number')\n",
        "elif num==0:  # 조건2\n",
        "  print('zero')\n",
        "else:\n",
        "  print('negative number')"
      ],
      "metadata": {
        "colab": {
          "base_uri": "https://localhost:8080/"
        },
        "id": "9JkQSOqPQBut",
        "outputId": "04403bb4-89a1-4abe-b028-43caabd65f14"
      },
      "execution_count": null,
      "outputs": [
        {
          "output_type": "stream",
          "name": "stdout",
          "text": [
            "postive number\n"
          ]
        }
      ]
    },
    {
      "cell_type": "markdown",
      "source": [
        "Nested if ...elif...else  -> 중첩 조건문"
      ],
      "metadata": {
        "id": "ETCfwBoYtqdE"
      }
    },
    {
      "cell_type": "code",
      "source": [
        "num = float(input(\"Enter a number : \"))\n",
        "if num >= 0:\n",
        "  if num == 0:\n",
        "    print('zero')\n",
        "  else :\n",
        "      print('positive number')\n",
        "else :\n",
        "  print('negative number')"
      ],
      "metadata": {
        "colab": {
          "base_uri": "https://localhost:8080/"
        },
        "id": "CV2r6AH5tpmr",
        "outputId": "9241943f-23ca-46ac-ca94-c0347f741c60"
      },
      "execution_count": null,
      "outputs": [
        {
          "output_type": "stream",
          "name": "stdout",
          "text": [
            "Enter a number : 3\n",
            "positive number\n"
          ]
        }
      ]
    },
    {
      "cell_type": "markdown",
      "source": [
        "반복문\n",
        "for loop"
      ],
      "metadata": {
        "id": "Zz8BC7pp3duY"
      }
    },
    {
      "cell_type": "code",
      "source": [
        "numbers = [6,5,3,6,7,13,51,1]\n",
        "sum=0\n",
        "\n",
        "for val in numbers:\n",
        "  sum = sum+val\n",
        "\n",
        "print('The sum is', sum)"
      ],
      "metadata": {
        "colab": {
          "base_uri": "https://localhost:8080/"
        },
        "id": "6l9yRTHD-4mG",
        "outputId": "2ddb4194-29f8-473d-ae92-43c6fed2a28e"
      },
      "execution_count": null,
      "outputs": [
        {
          "output_type": "stream",
          "name": "stdout",
          "text": [
            "The sum is 92\n"
          ]
        }
      ]
    },
    {
      "cell_type": "code",
      "source": [
        "print(range(-9))\n",
        "print(list(range(-9)))\n",
        "print(list(range(9)))\n",
        "\n",
        "#print(range(-17.5))\n",
        "#print(range(17.5))"
      ],
      "metadata": {
        "colab": {
          "base_uri": "https://localhost:8080/"
        },
        "id": "e8nLTwUi3dci",
        "outputId": "d59de2de-36f2-4406-ddc7-41a6c6870815"
      },
      "execution_count": null,
      "outputs": [
        {
          "output_type": "stream",
          "name": "stdout",
          "text": [
            "range(0, -9)\n",
            "[]\n",
            "[0, 1, 2, 3, 4, 5, 6, 7, 8]\n"
          ]
        }
      ]
    },
    {
      "cell_type": "code",
      "source": [
        "genre=['pop','rock','jazz']\n",
        "\n",
        "for i in range(len(genre)):\n",
        "  print('I like', genre[i])\n",
        "\n",
        "for i in genre:\n",
        "  print('I like', genre)"
      ],
      "metadata": {
        "colab": {
          "base_uri": "https://localhost:8080/"
        },
        "id": "iFVGKxV14nGQ",
        "outputId": "107ac86a-b6f4-4c4c-ee68-0de348c094bf"
      },
      "execution_count": null,
      "outputs": [
        {
          "output_type": "stream",
          "name": "stdout",
          "text": [
            "I like pop\n",
            "I like rock\n",
            "I like jazz\n",
            "I like ['pop', 'rock', 'jazz']\n",
            "I like ['pop', 'rock', 'jazz']\n",
            "I like ['pop', 'rock', 'jazz']\n"
          ]
        }
      ]
    },
    {
      "cell_type": "markdown",
      "source": [
        "while loop / while loop + else"
      ],
      "metadata": {
        "id": "BzDvn1Rh_bV1"
      }
    },
    {
      "cell_type": "code",
      "source": [
        "n = int(input(\"숫자를 입력하세요 : \")) #입력 값은 문자로 처리되어 '정수'로 형변환\n",
        "\n",
        "sum = 0\n",
        "i = 1\n",
        "\n",
        "while i <= n :\n",
        "  sum = sum+i\n",
        "  i = i+1\n",
        "\n",
        "print(\"1부터 입력한 값의 총합 : \", sum)"
      ],
      "metadata": {
        "colab": {
          "base_uri": "https://localhost:8080/"
        },
        "id": "8b_asnjM_gFG",
        "outputId": "a8e58aeb-b0d4-45e0-c43b-49ae1953ac7e"
      },
      "execution_count": null,
      "outputs": [
        {
          "output_type": "stream",
          "name": "stdout",
          "text": [
            "숫자를 입력하세요 : 13\n",
            "1부터 입력한 값의 총합 :  91\n"
          ]
        }
      ]
    },
    {
      "cell_type": "markdown",
      "source": [
        "위의 while 문을 for 문으로 해보기"
      ],
      "metadata": {
        "id": "XOh-X9zaExz7"
      }
    },
    {
      "cell_type": "code",
      "source": [
        "n = int(input(\"숫자를 입력하세요 : \")) #입력 값은 문자로 처리되어 '정수'로 형변환\n",
        "\n",
        "sum = 0\n",
        "i = 1\n",
        "\n",
        "for i in range(1,n+1) :\n",
        "  sum=sum+i\n",
        "\n",
        "print(\"1부터 입력한 값의 총 합 : \",sum)"
      ],
      "metadata": {
        "colab": {
          "base_uri": "https://localhost:8080/"
        },
        "id": "QUI5BvyKEWVk",
        "outputId": "f3e08bf1-22c7-474d-ee99-0013395aa24d"
      },
      "execution_count": null,
      "outputs": [
        {
          "output_type": "stream",
          "name": "stdout",
          "text": [
            "숫자를 입력하세요 : 13\n",
            "1부터 입력한 값의 총 합 :  91\n"
          ]
        }
      ]
    },
    {
      "cell_type": "code",
      "source": [
        "counter = 0\n",
        "\n",
        "while counter < 3 :\n",
        "  print(\"Inside loop\")\n",
        "  counter = counter+1\n",
        "else :\n",
        "  print(\"Inside else\")"
      ],
      "metadata": {
        "colab": {
          "base_uri": "https://localhost:8080/"
        },
        "id": "ooLDhJnMBG3F",
        "outputId": "04c32910-26fb-4507-a2e7-13c70bff99b9"
      },
      "execution_count": null,
      "outputs": [
        {
          "output_type": "stream",
          "name": "stdout",
          "text": [
            "Inside loop\n",
            "Inside loop\n",
            "Inside loop\n",
            "Inside else\n"
          ]
        }
      ]
    },
    {
      "cell_type": "code",
      "source": [
        "counter = 4\n",
        "\n",
        "while counter > 3 :\n",
        "  print(\"Inside loop\")\n",
        "  counter = counter+1\n",
        "\n",
        "  if counter == 15 : # 해당 코드가 없을 경우 무한루프\n",
        "    break  #---> 무한루프시 break로 종료\n",
        "\n",
        "else :\n",
        "  print(\"Inside else\")"
      ],
      "metadata": {
        "colab": {
          "base_uri": "https://localhost:8080/"
        },
        "id": "K1yCwWkfCWW1",
        "outputId": "f9c8342d-5cd1-4b34-a3b0-620ba416900a"
      },
      "execution_count": null,
      "outputs": [
        {
          "output_type": "stream",
          "name": "stdout",
          "text": [
            "Inside loop\n",
            "Inside loop\n",
            "Inside loop\n",
            "Inside loop\n",
            "Inside loop\n",
            "Inside loop\n",
            "Inside loop\n",
            "Inside loop\n",
            "Inside loop\n",
            "Inside loop\n",
            "Inside loop\n"
          ]
        }
      ]
    },
    {
      "cell_type": "markdown",
      "source": [
        "break와 continue"
      ],
      "metadata": {
        "id": "MDs26cjZGHh7"
      }
    },
    {
      "cell_type": "code",
      "source": [
        "for val in \"string\" :\n",
        "  if val == \"i\" :\n",
        "    break\n",
        "  print(val)\n",
        "print (\"끝!\")"
      ],
      "metadata": {
        "colab": {
          "base_uri": "https://localhost:8080/"
        },
        "id": "d08AaWoKFkrN",
        "outputId": "c230012d-c603-4e54-be45-a234076a4477"
      },
      "execution_count": null,
      "outputs": [
        {
          "output_type": "stream",
          "name": "stdout",
          "text": [
            "s\n",
            "t\n",
            "r\n",
            "the end\n"
          ]
        }
      ]
    },
    {
      "cell_type": "code",
      "source": [
        "for val in \"string\" :\n",
        "  if val == \"i\" :\n",
        "    continue\n",
        "  print(val)\n",
        "print (\"끝!\")"
      ],
      "metadata": {
        "colab": {
          "base_uri": "https://localhost:8080/"
        },
        "id": "v10JvsiDF1P0",
        "outputId": "4b7a1a6d-b359-4475-8abb-8d4e1de38468"
      },
      "execution_count": null,
      "outputs": [
        {
          "output_type": "stream",
          "name": "stdout",
          "text": [
            "s\n",
            "t\n",
            "r\n",
            "n\n",
            "g\n",
            "the end\n"
          ]
        }
      ]
    },
    {
      "cell_type": "code",
      "source": [
        "# 짝수의 합계\n",
        "\"\"\"for i in range(10):\n",
        "  if i%2 == 0 :\n",
        "    sum = sum+i \"\"\" # 짝수일때 더하기\n",
        "\n",
        "\"\"\"for i in range(10) :\n",
        "  if i % 2 != 0 : # 홀수 건너뛰기\n",
        "    continue\n",
        "    sum = sum+1\"\"\"\n",
        "\n"
      ],
      "metadata": {
        "id": "PIbaPycoGj9i"
      },
      "execution_count": null,
      "outputs": []
    },
    {
      "cell_type": "code",
      "source": [
        "## 1부터 입력받은 값 사이의 짝수의 합 구하기\n",
        "n = int(input(\"숫자를 입력하세요 : \"))\n",
        "\n",
        "sum = 0\n",
        "\n",
        "\n",
        "for i in range(1,n+1) :\n",
        "  if i % 2 == 0 :\n",
        "    sum = sum+i\n",
        "\n",
        "print(\"입력한 값 중 짝수의 합 : \",sum)"
      ],
      "metadata": {
        "colab": {
          "base_uri": "https://localhost:8080/"
        },
        "id": "_t7pCROUIkqS",
        "outputId": "36c826d8-f463-4440-9535-59939209e625"
      },
      "execution_count": null,
      "outputs": [
        {
          "output_type": "stream",
          "name": "stdout",
          "text": [
            "숫자를 입력하세요 : 12\n",
            "입력한 값 중 짝수의 합 :  42\n"
          ]
        }
      ]
    }
  ]
}