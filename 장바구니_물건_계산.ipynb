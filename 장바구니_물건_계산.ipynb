{
  "nbformat": 4,
  "nbformat_minor": 0,
  "metadata": {
    "colab": {
      "provenance": [],
      "authorship_tag": "ABX9TyPs1u5sopEoQ4jbXQDP+ZWS",
      "include_colab_link": true
    },
    "kernelspec": {
      "name": "python3",
      "display_name": "Python 3"
    },
    "language_info": {
      "name": "python"
    }
  },
  "cells": [
    {
      "cell_type": "markdown",
      "metadata": {
        "id": "view-in-github",
        "colab_type": "text"
      },
      "source": [
        "<a href=\"https://colab.research.google.com/github/hazel-10/python/blob/main/%EC%9E%A5%EB%B0%94%EA%B5%AC%EB%8B%88_%EB%AC%BC%EA%B1%B4_%EA%B3%84%EC%82%B0.ipynb\" target=\"_parent\"><img src=\"https://colab.research.google.com/assets/colab-badge.svg\" alt=\"Open In Colab\"/></a>"
      ]
    },
    {
      "cell_type": "markdown",
      "source": [
        "<h1>장바구니 물건 계산</h1>\n",
        "\n",
        "조건\n",
        "- 물건 가격이 10,000원 이상이면 10% 할인 적용\n",
        "- 물건 가격이 10,000원 미만이면 할인 적용 없음\n",
        "\n",
        "Q. 여러개의 물건을 샀을때 최종 지불 금액은?"
      ],
      "metadata": {
        "id": "3MrkytbBFe9k"
      }
    },
    {
      "cell_type": "code",
      "source": [
        "stuff_price=[15000, 10000,9900,1000,5600,15400]\n",
        "total_price = 0\n"
      ],
      "metadata": {
        "id": "_8LF-GSlF1Ds"
      },
      "execution_count": 6,
      "outputs": []
    },
    {
      "cell_type": "code",
      "source": [
        "for price in stuff_price :\n",
        "    if price >= 10000:\n",
        "        price=price*0.9\n",
        "    total_price = total_price+int(price)\n"
      ],
      "metadata": {
        "id": "DxSd5Q9IGVor"
      },
      "execution_count": 7,
      "outputs": []
    },
    {
      "cell_type": "code",
      "source": [
        "print(total_price)"
      ],
      "metadata": {
        "colab": {
          "base_uri": "https://localhost:8080/"
        },
        "id": "NHTd4yDHGhhk",
        "outputId": "ff6f84b2-2c1f-411e-b348-12e665a58086"
      },
      "execution_count": 8,
      "outputs": [
        {
          "output_type": "stream",
          "name": "stdout",
          "text": [
            "52860\n"
          ]
        }
      ]
    }
  ]
}