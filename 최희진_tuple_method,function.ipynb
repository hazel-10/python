{
  "nbformat": 4,
  "nbformat_minor": 0,
  "metadata": {
    "colab": {
      "provenance": [],
      "collapsed_sections": [
        "c2L9Fso63NPx",
        "MwPknu661KAh"
      ],
      "authorship_tag": "ABX9TyO0ctSF/rFsi/Sk+ZUq2I7A",
      "include_colab_link": true
    },
    "kernelspec": {
      "name": "python3",
      "display_name": "Python 3"
    },
    "language_info": {
      "name": "python"
    }
  },
  "cells": [
    {
      "cell_type": "markdown",
      "metadata": {
        "id": "view-in-github",
        "colab_type": "text"
      },
      "source": [
        "<a href=\"https://colab.research.google.com/github/hazel-10/python/blob/main/%EC%B5%9C%ED%9D%AC%EC%A7%84_tuple_method%2Cfunction.ipynb\" target=\"_parent\"><img src=\"https://colab.research.google.com/assets/colab-badge.svg\" alt=\"Open In Colab\"/></a>"
      ]
    },
    {
      "cell_type": "markdown",
      "source": [
        "※tuple = 순서가 정해져있는 item들의 모음 / 변경(재할당)은 불가\n",
        "\n",
        "##tuple method\n",
        "\n",
        "---\n",
        "\n",
        "\n",
        "|method|Description|\n",
        "|--|--|\n",
        "|count()|특정 item 몇개 있는지 갯수 반환|\n",
        "|index()|특정 item이 처음 나타나는 위치를 인덱스로 반환 / 없으면 오류발생|\n",
        "\n",
        "\n"
      ],
      "metadata": {
        "id": "c2L9Fso63NPx"
      }
    },
    {
      "cell_type": "code",
      "source": [
        "#count() 예제\n",
        "AA=('고양이','강아지','토끼','쿼카','백로','강아지','오리','강아지')\n",
        "print(AA.count('강아지'))"
      ],
      "metadata": {
        "colab": {
          "base_uri": "https://localhost:8080/"
        },
        "id": "Qo8_-y_80QEZ",
        "outputId": "64058c92-ae51-4c7f-fdfc-dd6cdce8c572"
      },
      "execution_count": null,
      "outputs": [
        {
          "output_type": "stream",
          "name": "stdout",
          "text": [
            "3\n"
          ]
        }
      ]
    },
    {
      "cell_type": "code",
      "source": [
        "AA=('고양이','강아지','토끼','쿼카','백로','강아지','오리','강아지')\n",
        "print(AA.count('멍멍이')) #갯수가 0이라 0 반환"
      ],
      "metadata": {
        "colab": {
          "base_uri": "https://localhost:8080/"
        },
        "id": "_0DsPGS-0-qB",
        "outputId": "c59bf598-ce8a-4116-acae-756fdc7039ea"
      },
      "execution_count": null,
      "outputs": [
        {
          "output_type": "stream",
          "name": "stdout",
          "text": [
            "0\n"
          ]
        }
      ]
    },
    {
      "cell_type": "code",
      "source": [
        "#index() 예제\n",
        "AA=('고양이','강아지','토끼','쿼카','백로','강아지','오리','강아지')\n",
        "print(AA.index('강아지'))"
      ],
      "metadata": {
        "colab": {
          "base_uri": "https://localhost:8080/"
        },
        "id": "oqRq3Cz00kwF",
        "outputId": "d9119ba9-aef8-4f49-ccaf-2b7da2b145a8"
      },
      "execution_count": null,
      "outputs": [
        {
          "output_type": "stream",
          "name": "stdout",
          "text": [
            "1\n"
          ]
        }
      ]
    },
    {
      "cell_type": "code",
      "source": [
        "#count() 예제\n",
        "AA=('고양이','강아지','토끼','쿼카','백로','강아지','오리','강아지')\n",
        "print(AA.index('멍멍이')) # 반환할 인덱스가 없어서 오류 발생"
      ],
      "metadata": {
        "colab": {
          "base_uri": "https://localhost:8080/",
          "height": 184
        },
        "id": "ooR6ECx20rrR",
        "outputId": "6d8d5ca7-813f-45e3-85c3-9aa4562addae"
      },
      "execution_count": null,
      "outputs": [
        {
          "output_type": "error",
          "ename": "ValueError",
          "evalue": "tuple.index(x): x not in tuple",
          "traceback": [
            "\u001b[0;31m---------------------------------------------------------------------------\u001b[0m",
            "\u001b[0;31mValueError\u001b[0m                                Traceback (most recent call last)",
            "\u001b[0;32m<ipython-input-5-ef54dc02d9bb>\u001b[0m in \u001b[0;36m<cell line: 0>\u001b[0;34m()\u001b[0m\n\u001b[1;32m      1\u001b[0m \u001b[0;31m#count() 예제\u001b[0m\u001b[0;34m\u001b[0m\u001b[0;34m\u001b[0m\u001b[0m\n\u001b[1;32m      2\u001b[0m \u001b[0mAA\u001b[0m\u001b[0;34m=\u001b[0m\u001b[0;34m(\u001b[0m\u001b[0;34m'고양이'\u001b[0m\u001b[0;34m,\u001b[0m\u001b[0;34m'강아지'\u001b[0m\u001b[0;34m,\u001b[0m\u001b[0;34m'토끼'\u001b[0m\u001b[0;34m,\u001b[0m\u001b[0;34m'쿼카'\u001b[0m\u001b[0;34m,\u001b[0m\u001b[0;34m'백로'\u001b[0m\u001b[0;34m,\u001b[0m\u001b[0;34m'강아지'\u001b[0m\u001b[0;34m,\u001b[0m\u001b[0;34m'오리'\u001b[0m\u001b[0;34m,\u001b[0m\u001b[0;34m'강아지'\u001b[0m\u001b[0;34m)\u001b[0m\u001b[0;34m\u001b[0m\u001b[0;34m\u001b[0m\u001b[0m\n\u001b[0;32m----> 3\u001b[0;31m \u001b[0mprint\u001b[0m\u001b[0;34m(\u001b[0m\u001b[0mAA\u001b[0m\u001b[0;34m.\u001b[0m\u001b[0mindex\u001b[0m\u001b[0;34m(\u001b[0m\u001b[0;34m'멍멍이'\u001b[0m\u001b[0;34m)\u001b[0m\u001b[0;34m)\u001b[0m\u001b[0;34m\u001b[0m\u001b[0;34m\u001b[0m\u001b[0m\n\u001b[0m",
            "\u001b[0;31mValueError\u001b[0m: tuple.index(x): x not in tuple"
          ]
        }
      ]
    },
    {
      "cell_type": "markdown",
      "source": [
        "##tuple function\n",
        "\n",
        "---\n",
        "\n",
        "\n",
        "|function|Description|\n",
        "|--|--|\n",
        "|len()|item들의 총 갯수 반환|\n",
        "|max()|item중 가장 큰 값 반환 / 문자의 경우 A~Z, ㄱ~ㅎ 등 순서의 끝일수록 큰 값|\n",
        "|min()|item중 가장 작은 값 반환/ 문자의 경우 A~Z, ㄱ~ㅎ 등 순서의 앞일수록 작은 값|\n",
        "|sum()|모든 item들의 합(숫자형에서만 가능)|\n",
        "|tuple()|튜플로 형변환|\n",
        "|reversed()|item 순서가 반전된 반복 가능 객체 반환|\n",
        "|sorted()|오름차순으로 정렬한 리스트 반환/reverse=True 사용하면 내림차순으로 정렬|\n",
        "|all()|모든 요소가 참일경우 참, 하나라도 거짓이면 거짓 반환|\n",
        "|any()|하나라도 참일 경우 참, 모두 거짓일 경우 거짓 반환|\n"
      ],
      "metadata": {
        "id": "MwPknu661KAh"
      }
    },
    {
      "cell_type": "code",
      "source": [
        "#len() 예제\n",
        "AA=('고양이','강아지','토끼','쿼카','백로','강아지','오리','강아지')\n",
        "print(len(AA))"
      ],
      "metadata": {
        "colab": {
          "base_uri": "https://localhost:8080/"
        },
        "id": "h8cXMz054-zA",
        "outputId": "c345795f-c686-456f-9a5b-34f79c205926"
      },
      "execution_count": null,
      "outputs": [
        {
          "output_type": "stream",
          "name": "stdout",
          "text": [
            "8\n"
          ]
        }
      ]
    },
    {
      "cell_type": "code",
      "source": [
        "#max() 예제\n",
        "AA=('고양이','강아지','토끼','쿼카','백로','강아지','오리','강아지') #순서대로\n",
        "BB=(13,17,31,26,5,10)\n",
        "CC=('Monday')\n",
        "print(max(AA))\n",
        "print(max(BB))\n",
        "print(max(CC))"
      ],
      "metadata": {
        "colab": {
          "base_uri": "https://localhost:8080/"
        },
        "id": "3W29cxUY1plh",
        "outputId": "843638ef-8ae5-4738-cf4d-037cb3346b52"
      },
      "execution_count": null,
      "outputs": [
        {
          "output_type": "stream",
          "name": "stdout",
          "text": [
            "토끼\n",
            "31\n",
            "y\n"
          ]
        }
      ]
    },
    {
      "cell_type": "code",
      "source": [
        "#min() 예제\n",
        "AA=('고양이','강아지','토끼','쿼카','백로','강아지','오리','강아지') #순서대로\n",
        "BB=(13,17,31,26,5,10)\n",
        "C=('Monday')\n",
        "print(min(AA))\n",
        "print(min(BB))\n",
        "print(min(CC))"
      ],
      "metadata": {
        "colab": {
          "base_uri": "https://localhost:8080/"
        },
        "id": "KmWWle-o5dsP",
        "outputId": "a72e9479-eca5-4790-beb8-3a2d4825d6b3"
      },
      "execution_count": null,
      "outputs": [
        {
          "output_type": "stream",
          "name": "stdout",
          "text": [
            "강아지\n",
            "5\n",
            "M\n"
          ]
        }
      ]
    },
    {
      "cell_type": "code",
      "source": [
        "#sum()예제\n",
        "AA=('고양이','강아지','토끼','쿼카','백로','강아지','오리','강아지')\n",
        "BB=(13,17,31,26,5,10)\n",
        "print(sum(BB))"
      ],
      "metadata": {
        "colab": {
          "base_uri": "https://localhost:8080/"
        },
        "id": "kuo8WxEw2elY",
        "outputId": "88de488c-00f4-4261-ea31-b41cfda5a3b2"
      },
      "execution_count": null,
      "outputs": [
        {
          "output_type": "stream",
          "name": "stdout",
          "text": [
            "102\n"
          ]
        }
      ]
    },
    {
      "cell_type": "code",
      "source": [
        "AA=('고양이','강아지','토끼','쿼카','백로','강아지','오리','강아지')\n",
        "BB=(13,17,31,26,5,10)\n",
        "print(sum(AA)) # 숫자형만 가능"
      ],
      "metadata": {
        "colab": {
          "base_uri": "https://localhost:8080/",
          "height": 184
        },
        "id": "PO-g5m1852On",
        "outputId": "1331fb64-aea1-41bb-804d-173790ab0ecd"
      },
      "execution_count": null,
      "outputs": [
        {
          "output_type": "error",
          "ename": "TypeError",
          "evalue": "unsupported operand type(s) for +: 'int' and 'str'",
          "traceback": [
            "\u001b[0;31m---------------------------------------------------------------------------\u001b[0m",
            "\u001b[0;31mTypeError\u001b[0m                                 Traceback (most recent call last)",
            "\u001b[0;32m<ipython-input-27-e4b58ca45f57>\u001b[0m in \u001b[0;36m<cell line: 0>\u001b[0;34m()\u001b[0m\n\u001b[1;32m      1\u001b[0m \u001b[0mAA\u001b[0m\u001b[0;34m=\u001b[0m\u001b[0;34m(\u001b[0m\u001b[0;34m'고양이'\u001b[0m\u001b[0;34m,\u001b[0m\u001b[0;34m'강아지'\u001b[0m\u001b[0;34m,\u001b[0m\u001b[0;34m'토끼'\u001b[0m\u001b[0;34m,\u001b[0m\u001b[0;34m'쿼카'\u001b[0m\u001b[0;34m,\u001b[0m\u001b[0;34m'백로'\u001b[0m\u001b[0;34m,\u001b[0m\u001b[0;34m'강아지'\u001b[0m\u001b[0;34m,\u001b[0m\u001b[0;34m'오리'\u001b[0m\u001b[0;34m,\u001b[0m\u001b[0;34m'강아지'\u001b[0m\u001b[0;34m)\u001b[0m\u001b[0;34m\u001b[0m\u001b[0;34m\u001b[0m\u001b[0m\n\u001b[1;32m      2\u001b[0m \u001b[0mBB\u001b[0m\u001b[0;34m=\u001b[0m\u001b[0;34m(\u001b[0m\u001b[0;36m13\u001b[0m\u001b[0;34m,\u001b[0m\u001b[0;36m17\u001b[0m\u001b[0;34m,\u001b[0m\u001b[0;36m31\u001b[0m\u001b[0;34m,\u001b[0m\u001b[0;36m26\u001b[0m\u001b[0;34m,\u001b[0m\u001b[0;36m5\u001b[0m\u001b[0;34m,\u001b[0m\u001b[0;36m10\u001b[0m\u001b[0;34m)\u001b[0m\u001b[0;34m\u001b[0m\u001b[0;34m\u001b[0m\u001b[0m\n\u001b[0;32m----> 3\u001b[0;31m \u001b[0mprint\u001b[0m\u001b[0;34m(\u001b[0m\u001b[0msum\u001b[0m\u001b[0;34m(\u001b[0m\u001b[0mAA\u001b[0m\u001b[0;34m)\u001b[0m\u001b[0;34m)\u001b[0m\u001b[0;34m\u001b[0m\u001b[0;34m\u001b[0m\u001b[0m\n\u001b[0m",
            "\u001b[0;31mTypeError\u001b[0m: unsupported operand type(s) for +: 'int' and 'str'"
          ]
        }
      ]
    },
    {
      "cell_type": "code",
      "source": [
        "#tuple(),reversed() 예제\n",
        "AA=('고양이','강아지','토끼','쿼카','백로','강아지','오리','강아지')\n",
        "BB=tuple(reversed(AA))\n",
        "print(BB)"
      ],
      "metadata": {
        "colab": {
          "base_uri": "https://localhost:8080/"
        },
        "id": "GIykJ8ki2y15",
        "outputId": "65c385c2-307d-454f-850f-3df28022e6f7"
      },
      "execution_count": null,
      "outputs": [
        {
          "output_type": "stream",
          "name": "stdout",
          "text": [
            "('강아지', '오리', '강아지', '백로', '쿼카', '토끼', '강아지', '고양이')\n"
          ]
        }
      ]
    },
    {
      "cell_type": "code",
      "source": [
        "#sorted()예제\n",
        "AA=('고양이','강아지','토끼','쿼카','백로','강아지','오리','강아지')\n",
        "print(sorted(AA))\n",
        "print(sorted(AA,reverse=True))\n",
        "print(AA) # 튜플은 원본 변경 x"
      ],
      "metadata": {
        "colab": {
          "base_uri": "https://localhost:8080/"
        },
        "id": "tu-WR8zW4ten",
        "outputId": "caec7e26-1c7d-45ea-81f6-1747058df3c8"
      },
      "execution_count": null,
      "outputs": [
        {
          "output_type": "stream",
          "name": "stdout",
          "text": [
            "['강아지', '강아지', '강아지', '고양이', '백로', '오리', '쿼카', '토끼']\n",
            "['토끼', '쿼카', '오리', '백로', '고양이', '강아지', '강아지', '강아지']\n",
            "('고양이', '강아지', '토끼', '쿼카', '백로', '강아지', '오리', '강아지')\n"
          ]
        }
      ]
    },
    {
      "cell_type": "code",
      "source": [
        "#all()예제\n",
        "a=(1,2,3,4,5)\n",
        "b=(1,0,1,0,5)\n",
        "c=('A','B','C')\n",
        "print(all(a))\n",
        "print(all(b))\n",
        "print(all(c))"
      ],
      "metadata": {
        "colab": {
          "base_uri": "https://localhost:8080/"
        },
        "id": "fPI_Z8Pj8nWu",
        "outputId": "e15d881a-ca90-46ee-940c-407d0e89a807"
      },
      "execution_count": null,
      "outputs": [
        {
          "output_type": "stream",
          "name": "stdout",
          "text": [
            "True\n",
            "False\n",
            "True\n"
          ]
        }
      ]
    },
    {
      "cell_type": "code",
      "source": [
        "#any()예제\n",
        "a=(1,2,3,4,5)\n",
        "b=(1,0,1,0,5)\n",
        "c=('A','B','C')\n",
        "print(any(a))\n",
        "print(any(b))\n",
        "print(any(c))"
      ],
      "metadata": {
        "colab": {
          "base_uri": "https://localhost:8080/"
        },
        "id": "VJv9_hGw87Km",
        "outputId": "654a8e0a-38fe-45ac-dcdd-9f2c1e4f556e"
      },
      "execution_count": null,
      "outputs": [
        {
          "output_type": "stream",
          "name": "stdout",
          "text": [
            "True\n",
            "True\n",
            "True\n"
          ]
        }
      ]
    }
  ]
}