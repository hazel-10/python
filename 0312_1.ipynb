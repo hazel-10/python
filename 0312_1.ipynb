{
  "nbformat": 4,
  "nbformat_minor": 0,
  "metadata": {
    "colab": {
      "provenance": [],
      "authorship_tag": "ABX9TyPRR9k/Y16VbF/YbZxNpCDy",
      "include_colab_link": true
    },
    "kernelspec": {
      "name": "python3",
      "display_name": "Python 3"
    },
    "language_info": {
      "name": "python"
    }
  },
  "cells": [
    {
      "cell_type": "markdown",
      "metadata": {
        "id": "view-in-github",
        "colab_type": "text"
      },
      "source": [
        "<a href=\"https://colab.research.google.com/github/hazel-10/python/blob/main/0312_1.ipynb\" target=\"_parent\"><img src=\"https://colab.research.google.com/assets/colab-badge.svg\" alt=\"Open In Colab\"/></a>"
      ]
    },
    {
      "cell_type": "code",
      "execution_count": null,
      "metadata": {
        "colab": {
          "base_uri": "https://localhost:8080/"
        },
        "id": "hlM8Q0ltubvJ",
        "outputId": "962c5e68-2ae7-4b19-9e63-1799dab188bb"
      },
      "outputs": [
        {
          "output_type": "stream",
          "name": "stdout",
          "text": [
            "1\n",
            "2\n",
            "3\n",
            "4\n",
            "5\n"
          ]
        }
      ],
      "source": [
        "for i in range(1,11) :\n",
        "  print(i)\n",
        "  ''' 이것은 주석 연습 '''\n",
        "  if i == 5 : #5 만나면 멈추기\n",
        "    break"
      ]
    },
    {
      "cell_type": "code",
      "source": [],
      "metadata": {
        "id": "WocRiIJYjavN"
      },
      "execution_count": null,
      "outputs": []
    },
    {
      "cell_type": "code",
      "source": [
        "def double(num) :\n",
        "  '''function to double the value\n",
        "  주석출력'''\n",
        "  return 2*num\n",
        "print (double.__doc__)\n"
      ],
      "metadata": {
        "colab": {
          "base_uri": "https://localhost:8080/"
        },
        "id": "MbbGWQ1LPzlM",
        "outputId": "9a91ec58-b858-4280-cbba-2df0341b11e5"
      },
      "execution_count": null,
      "outputs": [
        {
          "output_type": "stream",
          "name": "stdout",
          "text": [
            "function to double the value\n",
            "  주석출력\n"
          ]
        }
      ]
    },
    {
      "cell_type": "code",
      "source": [
        "print ('This sentence is output to the screen')\n",
        "a=13\n",
        "print ('The value of a is', a)\n",
        "a=19\n",
        "print ('The value of a is', a)"
      ],
      "metadata": {
        "colab": {
          "base_uri": "https://localhost:8080/"
        },
        "id": "DLavI99Ijb4s",
        "outputId": "deadd20b-d943-419a-e21c-cbf987adacdb"
      },
      "execution_count": null,
      "outputs": [
        {
          "output_type": "stream",
          "name": "stdout",
          "text": [
            "This sentence is output to the screen\n",
            "The value of a is 13\n",
            "The value of a is 19\n"
          ]
        }
      ]
    },
    {
      "cell_type": "code",
      "source": [
        "x=5; y=10\n",
        "print ('The vlaue of x is {} and y is {}'.format(x,y))"
      ],
      "metadata": {
        "colab": {
          "base_uri": "https://localhost:8080/"
        },
        "id": "6HmOTPIhkJ-l",
        "outputId": "2739812e-04aa-470d-875f-1ad3792cc30f"
      },
      "execution_count": null,
      "outputs": [
        {
          "output_type": "stream",
          "name": "stdout",
          "text": [
            "The vlaue of x is 5 and y is 10\n"
          ]
        }
      ]
    },
    {
      "cell_type": "code",
      "source": [
        "print('I love {0} and {1}'.format('bread','butter'))\n",
        "print('I love {1} and {0}'.format('bread','butter'))"
      ],
      "metadata": {
        "colab": {
          "base_uri": "https://localhost:8080/"
        },
        "id": "8WQxbcy9ke97",
        "outputId": "b3ff745c-93c7-4334-b108-38d7d5d78aac"
      },
      "execution_count": null,
      "outputs": [
        {
          "output_type": "stream",
          "name": "stdout",
          "text": [
            "I love bread and butter\n",
            "I love butter and bread\n"
          ]
        }
      ]
    },
    {
      "cell_type": "code",
      "source": [],
      "metadata": {
        "id": "1HJx2oe5lWOb"
      },
      "execution_count": null,
      "outputs": []
    },
    {
      "cell_type": "code",
      "source": [
        "print('Hello {name}, {greeting}'.format(greeting = 'Good morning', name='John'))"
      ],
      "metadata": {
        "colab": {
          "base_uri": "https://localhost:8080/"
        },
        "id": "Y7fhkSYIkysz",
        "outputId": "930a2b76-d3c4-4660-e74e-4d1fda7653ab"
      },
      "execution_count": null,
      "outputs": [
        {
          "output_type": "stream",
          "name": "stdout",
          "text": [
            "Hello John, Good morning\n"
          ]
        }
      ]
    },
    {
      "cell_type": "code",
      "source": [
        "print('Hello {name}, {greeting[1]}'.format(greeting = ['Good morning','Good night'], name='John'))\n"
      ],
      "metadata": {
        "colab": {
          "base_uri": "https://localhost:8080/"
        },
        "id": "CSSnwpAdldrD",
        "outputId": "9720b80f-3bc5-48be-ddeb-c2a40b33e2ac"
      },
      "execution_count": null,
      "outputs": [
        {
          "output_type": "stream",
          "name": "stdout",
          "text": [
            "Hello John, Good night\n"
          ]
        }
      ]
    },
    {
      "cell_type": "code",
      "source": [
        "x=(1==True)\n",
        "y=(1==False)\n",
        "print('x is',x)\n",
        "print('y is',y)"
      ],
      "metadata": {
        "colab": {
          "base_uri": "https://localhost:8080/"
        },
        "id": "8gRja4eUt9Cy",
        "outputId": "a619bbb8-d187-4b0f-a482-53687c91f119"
      },
      "execution_count": null,
      "outputs": [
        {
          "output_type": "stream",
          "name": "stdout",
          "text": [
            "x is True\n",
            "y is False\n"
          ]
        }
      ]
    },
    {
      "cell_type": "code",
      "source": [
        "x=(1==True)\n",
        "y=(1==False)\n",
        "a=True+4\n",
        "print(a)"
      ],
      "metadata": {
        "colab": {
          "base_uri": "https://localhost:8080/"
        },
        "id": "S3nV6YMlvnkR",
        "outputId": "64d31268-e5a8-4eb3-db46-fd089b78cecb"
      },
      "execution_count": null,
      "outputs": [
        {
          "output_type": "stream",
          "name": "stdout",
          "text": [
            "5\n"
          ]
        }
      ]
    },
    {
      "cell_type": "code",
      "source": [
        "cus1=['홍길동','010-1234-5678',100] # 이름, 연락처, 포인트\n",
        "cus2=['이커피','010-2345-6789',50]\n",
        "cus_list=[cus1,cus2]\n",
        "print(cus1)\n",
        "print(cus1[0])\n",
        "print(cus_list)\n",
        "print(cus_list[0])\n",
        "print(cus_list[1][0]) # --> [1] = cus2 / [0] = cus2[0]\n",
        "print(cus_list[1][0],\",\",cus_list[1][1])"
      ],
      "metadata": {
        "colab": {
          "base_uri": "https://localhost:8080/"
        },
        "id": "VqZdct5z4qSO",
        "outputId": "ee28cb5e-19bc-467c-a6dc-f1520f290033"
      },
      "execution_count": null,
      "outputs": [
        {
          "output_type": "stream",
          "name": "stdout",
          "text": [
            "['홍길동', '010-1234-5678', 100]\n",
            "홍길동\n",
            "[['홍길동', '010-1234-5678', 100], ['이커피', '010-2345-6789', 50]]\n",
            "['홍길동', '010-1234-5678', 100]\n",
            "이커피\n",
            "이커피 , 010-2345-6789\n"
          ]
        }
      ]
    },
    {
      "cell_type": "code",
      "source": [
        "t=(5,'program',1+3j,[1,2,3])\n",
        "print(\"t[1] = \", t[1])\n",
        "print (t[3][2])\n",
        "t[3][2] = 4\n",
        "print (t[3][2])\n",
        "t[3][2] = 4,5,6\n",
        "print (t[3][2])\n",
        "print (t)"
      ],
      "metadata": {
        "colab": {
          "base_uri": "https://localhost:8080/"
        },
        "id": "LFt-5absCIz5",
        "outputId": "ab62064c-5709-45e3-8715-5996cae377ef"
      },
      "execution_count": null,
      "outputs": [
        {
          "output_type": "stream",
          "name": "stdout",
          "text": [
            "t[1] =  program\n",
            "3\n",
            "4\n",
            "(4, 5, 6)\n",
            "(5, 'program', (1+3j), [1, 2, (4, 5, 6)])\n"
          ]
        }
      ]
    },
    {
      "cell_type": "code",
      "source": [
        "c=(0000,[])\n"
      ],
      "metadata": {
        "id": "osighCS8EZU5"
      },
      "execution_count": null,
      "outputs": []
    },
    {
      "cell_type": "code",
      "source": [
        "str=10,10\n",
        "list_enumerate = list(enumerate(str))\n",
        "dict_enu = dict(enumerate(str))"
      ],
      "metadata": {
        "id": "2HjMgPAzGC7I"
      },
      "execution_count": null,
      "outputs": []
    },
    {
      "cell_type": "code",
      "source": [
        "print(list_enumerate)\n",
        "print(len(str))\n",
        "print(type(str))\n",
        "print(type(list_enumerate))"
      ],
      "metadata": {
        "colab": {
          "base_uri": "https://localhost:8080/"
        },
        "id": "cwtQg8RbEpUx",
        "outputId": "5801e68e-feaf-4454-a3d5-620b9050b2de"
      },
      "execution_count": null,
      "outputs": [
        {
          "output_type": "stream",
          "name": "stdout",
          "text": [
            "[(0, 10), (1, 10)]\n",
            "2\n",
            "<class 'tuple'>\n",
            "<class 'list'>\n"
          ]
        }
      ]
    },
    {
      "cell_type": "code",
      "source": [
        "print(dict_enu)"
      ],
      "metadata": {
        "colab": {
          "base_uri": "https://localhost:8080/"
        },
        "id": "uq8Dnh9kIKOQ",
        "outputId": "ec353161-e068-4799-c0b4-3a1f3e8366eb"
      },
      "execution_count": null,
      "outputs": [
        {
          "output_type": "stream",
          "name": "stdout",
          "text": [
            "{0: 10, 1: 10}\n"
          ]
        }
      ]
    }
  ]
}