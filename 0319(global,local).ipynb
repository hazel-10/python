{
  "nbformat": 4,
  "nbformat_minor": 0,
  "metadata": {
    "colab": {
      "provenance": [],
      "authorship_tag": "ABX9TyNf+qTbe10FHseAIAdnTgcD",
      "include_colab_link": true
    },
    "kernelspec": {
      "name": "python3",
      "display_name": "Python 3"
    },
    "language_info": {
      "name": "python"
    }
  },
  "cells": [
    {
      "cell_type": "markdown",
      "metadata": {
        "id": "view-in-github",
        "colab_type": "text"
      },
      "source": [
        "<a href=\"https://colab.research.google.com/github/hazel-10/python/blob/main/0319(global%2Clocal).ipynb\" target=\"_parent\"><img src=\"https://colab.research.google.com/assets/colab-badge.svg\" alt=\"Open In Colab\"/></a>"
      ]
    },
    {
      "cell_type": "markdown",
      "source": [
        "전역 변수와 지역변수"
      ],
      "metadata": {
        "id": "t-X8PRYEGxvz"
      }
    },
    {
      "cell_type": "code",
      "execution_count": 5,
      "metadata": {
        "colab": {
          "base_uri": "https://localhost:8080/"
        },
        "id": "-4Nf9khREL7f",
        "outputId": "c0311c1e-f1c4-4544-cb23-4e2727fadc54"
      },
      "outputs": [
        {
          "output_type": "stream",
          "name": "stdout",
          "text": [
            "10\n"
          ]
        }
      ],
      "source": [
        "def outer_():\n",
        "  b=20\n",
        "  def inner_():\n",
        "    c=30\n",
        "    print(a)\n",
        "  inner_()\n",
        "a=10\n",
        "outer_()\n",
        "print(b) # b변수는 지역 변수로, 바깥 전역에는 영향을 주지 않음"
      ]
    },
    {
      "cell_type": "code",
      "source": [
        "def outer():\n",
        "  a=20\n",
        "  def inner():\n",
        "    a=30\n",
        "    print('맨위  = ', a) #같은 코드블록인 30 출력\n",
        "  inner()\n",
        "  print('중간 = ',a) #같은 코드블록인 20 출력\n",
        "a=10\n",
        "outer()\n",
        "print('아래 =',a)  #같은 코드블록인 10 출력"
      ],
      "metadata": {
        "colab": {
          "base_uri": "https://localhost:8080/"
        },
        "id": "KQ4kNQ9bFAlD",
        "outputId": "b4ceef26-e4b6-45f0-94d8-d5d5c6f90a97"
      },
      "execution_count": 3,
      "outputs": [
        {
          "output_type": "stream",
          "name": "stdout",
          "text": [
            "맨위  =  30\n",
            "중간 =  20\n",
            "아래 = 10\n"
          ]
        }
      ]
    },
    {
      "cell_type": "code",
      "source": [
        "def outer__():\n",
        "  global a\n",
        "  a=20\n",
        "  def inner__():\n",
        "    global a #지역변수 위치지만 전역변수로 선언\n",
        "    a=30\n",
        "    print('맨위  = ', a)\n",
        "  inner__()\n",
        "  print('중간 = ',a)\n",
        "a=10\n",
        "outer__()\n",
        "print('아래 =',a)"
      ],
      "metadata": {
        "colab": {
          "base_uri": "https://localhost:8080/"
        },
        "id": "DPWqMYrFIBSB",
        "outputId": "a67ba72d-31ac-4c6b-94a1-f7df01800256"
      },
      "execution_count": 7,
      "outputs": [
        {
          "output_type": "stream",
          "name": "stdout",
          "text": [
            "맨위  =  30\n",
            "중간 =  30\n",
            "아래 = 30\n"
          ]
        }
      ]
    },
    {
      "cell_type": "code",
      "source": [],
      "metadata": {
        "id": "UG_lPrbLNLnQ"
      },
      "execution_count": null,
      "outputs": []
    }
  ]
}