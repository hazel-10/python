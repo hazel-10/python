{
  "nbformat": 4,
  "nbformat_minor": 0,
  "metadata": {
    "colab": {
      "provenance": [],
      "authorship_tag": "ABX9TyOZQQCWCem4zhPC4mN9zNkt",
      "include_colab_link": true
    },
    "kernelspec": {
      "name": "python3",
      "display_name": "Python 3"
    },
    "language_info": {
      "name": "python"
    }
  },
  "cells": [
    {
      "cell_type": "markdown",
      "metadata": {
        "id": "view-in-github",
        "colab_type": "text"
      },
      "source": [
        "<a href=\"https://colab.research.google.com/github/hazel-10/python/blob/main/0320_%EC%86%8C%EC%88%98_%EC%B6%9C%EB%A0%A5.ipynb\" target=\"_parent\"><img src=\"https://colab.research.google.com/assets/colab-badge.svg\" alt=\"Open In Colab\"/></a>"
      ]
    },
    {
      "cell_type": "markdown",
      "source": [
        "Q. 키보드를 통해서 숫자를 입력 받아\n",
        "\n",
        "입력 값이 소수(약수가 1과 자기자신)이면 카운팅+저장\n",
        "\n",
        "총 소수가 5개면 프로그램 종료 및 화면 출력\n"
      ],
      "metadata": {
        "id": "WQx6NcvOYrt_"
      }
    },
    {
      "cell_type": "code",
      "execution_count": null,
      "metadata": {
        "colab": {
          "base_uri": "https://localhost:8080/"
        },
        "id": "o7_JB9syYnDy",
        "outputId": "1f3dbf57-0b25-42f0-c3b1-d0f5333688e8"
      },
      "outputs": [
        {
          "output_type": "stream",
          "name": "stdout",
          "text": [
            "정수를 입력해주세요 : 1\n",
            "정수를 입력해주세요 : 2\n",
            "정수를 입력해주세요 : 3\n",
            "정수를 입력해주세요 : 4\n",
            "정수를 입력해주세요 : 5\n",
            "정수를 입력해주세요 : 6\n",
            "정수를 입력해주세요 : 7\n",
            "정수를 입력해주세요 : 8\n",
            "정수를 입력해주세요 : 9\n",
            "정수를 입력해주세요 : 10\n",
            "정수를 입력해주세요 : 11\n",
            "소수: [2, 3, 5, 7, 11]\n"
          ]
        }
      ],
      "source": [
        "p_list = [None,None,None,None,None]\n",
        "p_index = 0\n",
        "\n",
        "while p_index < 5 :\n",
        "  num = int(input(\"정수를 입력해주세요 : \")) # 숫자 받을 창\n",
        "  num_c = 0\n",
        "  for i in range(1,num+1) : #1부터 입력값까지 반복\n",
        "    if num % i == 0 : # 나머지를 통해 약수 찾기\n",
        "      num_c = num_c+1 # 약수 갯수 찾기\n",
        "\n",
        "  if num_c == 2 : #약수 갯수가 2인지(소수인지 판단)\n",
        "    p_list[p_index] = num #입력값을 p_list[p_index] 자리에 추가\n",
        "    p_index = p_index +1 # p_list 다음 자리로 이동\n",
        "\n",
        "print(\"소수:\", p_list)"
      ]
    },
    {
      "cell_type": "markdown",
      "source": [
        "while문의 다른 방법"
      ],
      "metadata": {
        "id": "-8h0dQt3ecTN"
      }
    },
    {
      "cell_type": "code",
      "source": [
        "p_list = [None,None,None,None,None]\n",
        "p_index = 0\n",
        "\n",
        "while True :\n",
        "\n",
        "  num = int(input(\"정수를 입력해주세요 : \")) # 숫자 받을 창\n",
        "  num_c = 0\n",
        "  for i in range(1,num+1) : #1부터 입력값까지 반복\n",
        "    if num % i == 0 : # 나머지를 통해 약수 찾기\n",
        "      num_c = num_c+1 # 약수 갯수 찾기\n",
        "\n",
        "  if num_c == 2 : #약수 갯수가 2인지(소수인지 판단)\n",
        "    p_list[p_index] = num #입력값을 p_list[p_index] 자리에 추가\n",
        "    p_index = p_index +1 # p_list 다음 자리로 이동\n",
        "\n",
        "  if p_index == 5 :\n",
        "    break\n",
        "\n",
        "print(\"소수:\", p_list) #소수 5개 받을때까지 반복"
      ],
      "metadata": {
        "colab": {
          "base_uri": "https://localhost:8080/"
        },
        "id": "_Erp3pErdPdN",
        "outputId": "b8a53b19-ed67-40ba-d5b2-b6ed4154fdb5"
      },
      "execution_count": null,
      "outputs": [
        {
          "output_type": "stream",
          "name": "stdout",
          "text": [
            "정수를 입력해주세요 : 1\n",
            "정수를 입력해주세요 : 2\n",
            "정수를 입력해주세요 : 3\n",
            "정수를 입력해주세요 : 4\n",
            "정수를 입력해주세요 : 5\n",
            "정수를 입력해주세요 : 6\n",
            "정수를 입력해주세요 : 7\n",
            "정수를 입력해주세요 : 8\n",
            "정수를 입력해주세요 : 9\n",
            "정수를 입력해주세요 : 10\n",
            "정수를 입력해주세요 : 11\n",
            "소수: [2, 3, 5, 7, 11]\n"
          ]
        }
      ]
    }
  ]
}