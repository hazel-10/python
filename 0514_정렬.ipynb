{
  "nbformat": 4,
  "nbformat_minor": 0,
  "metadata": {
    "colab": {
      "provenance": [],
      "authorship_tag": "ABX9TyMPVVmebIUO7xOJkeiGWkUZ",
      "include_colab_link": true
    },
    "kernelspec": {
      "name": "python3",
      "display_name": "Python 3"
    },
    "language_info": {
      "name": "python"
    }
  },
  "cells": [
    {
      "cell_type": "markdown",
      "metadata": {
        "id": "view-in-github",
        "colab_type": "text"
      },
      "source": [
        "<a href=\"https://colab.research.google.com/github/hazel-10/python/blob/main/0514_%EC%A0%95%EB%A0%AC.ipynb\" target=\"_parent\"><img src=\"https://colab.research.google.com/assets/colab-badge.svg\" alt=\"Open In Colab\"/></a>"
      ]
    },
    {
      "cell_type": "markdown",
      "source": [
        "선택정렬\n"
      ],
      "metadata": {
        "id": "mVcW4Xh-fXn_"
      }
    },
    {
      "cell_type": "code",
      "execution_count": null,
      "metadata": {
        "id": "_7Rq7dDnJToF"
      },
      "outputs": [],
      "source": [
        "def selection_sort(A):\n",
        "    n = len(A)\n",
        "    for i in range(n-1) :\n",
        "        least = i;\n",
        "        for j in range(i+1,n) :\n",
        "            if (A[j]<A[least]) : #\n",
        "                least = j #\n",
        "        A[i],A[least] = A[least],A[i]\n",
        "        PrintStep(A,i+1)\n"
      ]
    },
    {
      "cell_type": "code",
      "source": [
        "def PrintStep(arr, val) :\n",
        "    print(\" Step %2d = \" % val, end=' ')\n",
        "    print(arr)"
      ],
      "metadata": {
        "id": "Rhyef7loW8Mz"
      },
      "execution_count": null,
      "outputs": []
    },
    {
      "cell_type": "code",
      "source": [
        "A=[2,4,1,5,3]"
      ],
      "metadata": {
        "id": "MyLhfjcXXJZ8"
      },
      "execution_count": null,
      "outputs": []
    },
    {
      "cell_type": "code",
      "source": [
        "selection_sort(A)"
      ],
      "metadata": {
        "colab": {
          "base_uri": "https://localhost:8080/"
        },
        "id": "rcX0OWYTXMpN",
        "outputId": "89051cd8-4c9f-4b66-d386-e98d12cf594a"
      },
      "execution_count": null,
      "outputs": [
        {
          "output_type": "stream",
          "name": "stdout",
          "text": [
            " Step  1 =  [1, 4, 2, 5, 3]\n",
            " Step  2 =  [1, 2, 4, 5, 3]\n",
            " Step  3 =  [1, 2, 3, 5, 4]\n",
            " Step  4 =  [1, 2, 3, 4, 5]\n"
          ]
        }
      ]
    },
    {
      "cell_type": "markdown",
      "source": [
        "삽입정렬\n"
      ],
      "metadata": {
        "id": "UjAWsa4Ghh2l"
      }
    },
    {
      "cell_type": "code",
      "source": [
        "def insertion_sort(A) :\n",
        "    n = len(A)\n",
        "    for i in range(1,n) :\n",
        "        key = A[i]\n",
        "        j = i-1\n",
        "        while j>=0 and A[j] > key :\n",
        "            A[j+1] = A[j]\n",
        "            j -= 1\n",
        "        A[j+1] = key\n",
        "        PrintStep(A,i)"
      ],
      "metadata": {
        "id": "egFMM-KUfafY"
      },
      "execution_count": null,
      "outputs": []
    },
    {
      "cell_type": "code",
      "source": [
        "insertion_sort(A)"
      ],
      "metadata": {
        "colab": {
          "base_uri": "https://localhost:8080/"
        },
        "id": "Q3JCDaNxf5of",
        "outputId": "d8df649f-faaf-4d69-ff6e-a6d4760134f4"
      },
      "execution_count": null,
      "outputs": [
        {
          "output_type": "stream",
          "name": "stdout",
          "text": [
            " Step  1 =  [2, 4, 1, 5, 3]\n",
            " Step  2 =  [1, 2, 4, 5, 3]\n",
            " Step  3 =  [1, 2, 4, 5, 3]\n",
            " Step  4 =  [1, 2, 3, 4, 5]\n"
          ]
        }
      ]
    },
    {
      "cell_type": "markdown",
      "source": [
        "버블정렬"
      ],
      "metadata": {
        "id": "896_xrgph01l"
      }
    },
    {
      "cell_type": "code",
      "source": [
        "def bubble_sort(A) :\n",
        "    n = len(A)\n",
        "    for i in range(n-1,0,-1) :\n",
        "        bChanged = False\n",
        "        for j in range(i) :\n",
        "            if (A[j]>A[j+1]) :\n",
        "                A[j], A[j+1] = A[j+1], A[j]\n",
        "                bChanged = True\n",
        "\n",
        "        if not bChanged :\n",
        "            break\n",
        "        PrintStep(A, n-i)"
      ],
      "metadata": {
        "id": "hd_lLlvoh-At"
      },
      "execution_count": null,
      "outputs": []
    },
    {
      "cell_type": "code",
      "source": [
        "bubble_sort(A)"
      ],
      "metadata": {
        "colab": {
          "base_uri": "https://localhost:8080/"
        },
        "id": "3-I0P1AMicpN",
        "outputId": "97fd9df0-20a9-4608-8222-b807b9fd57a4"
      },
      "execution_count": null,
      "outputs": [
        {
          "output_type": "stream",
          "name": "stdout",
          "text": [
            " Step  1 =  [2, 1, 4, 3, 5]\n",
            " Step  2 =  [1, 2, 3, 4, 5]\n"
          ]
        }
      ]
    }
  ]
}