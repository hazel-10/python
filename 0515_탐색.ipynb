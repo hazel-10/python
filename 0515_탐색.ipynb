{
  "nbformat": 4,
  "nbformat_minor": 0,
  "metadata": {
    "colab": {
      "provenance": [],
      "authorship_tag": "ABX9TyOKL3kctg78w/UBn6oqHZSu",
      "include_colab_link": true
    },
    "kernelspec": {
      "name": "python3",
      "display_name": "Python 3"
    },
    "language_info": {
      "name": "python"
    }
  },
  "cells": [
    {
      "cell_type": "markdown",
      "metadata": {
        "id": "view-in-github",
        "colab_type": "text"
      },
      "source": [
        "<a href=\"https://colab.research.google.com/github/hazel-10/python/blob/main/0515_%ED%83%90%EC%83%89.ipynb\" target=\"_parent\"><img src=\"https://colab.research.google.com/assets/colab-badge.svg\" alt=\"Open In Colab\"/></a>"
      ]
    },
    {
      "cell_type": "markdown",
      "source": [
        "**순차탐색**\n",
        "- 처음부터 하나씩 순서대로 검사"
      ],
      "metadata": {
        "id": "xvf_IH93chuC"
      }
    },
    {
      "cell_type": "code",
      "source": [
        "#엔트리 형식(key-value)\n",
        "def sequential_search(A, key, low, high) :\n",
        "    for i in range(low, high+1) : #low부터 high까지 탐색\n",
        "        if A[i].key == key : # 'A[i]의 key'가 찾는 값이면 i 반환\n",
        "            return i\n",
        "    return None # 못 찾은 경우 None 반환"
      ],
      "metadata": {
        "id": "uIb3LHXMcjSA"
      },
      "execution_count": 11,
      "outputs": []
    },
    {
      "cell_type": "code",
      "source": [
        "def sequential_search_(A, value, low, high) :\n",
        "    for i in range(low, high+1) : #low부터 high까지 탐색\n",
        "        if A[i] == value : # 'A[i]의 값'이 찾는 값이면 i 반환\n",
        "            return i\n",
        "    return None # 못 찾은 경우 None 반환"
      ],
      "metadata": {
        "id": "ScejVIkWENJQ"
      },
      "execution_count": 9,
      "outputs": []
    },
    {
      "cell_type": "code",
      "source": [
        "class Item:\n",
        "    def __init__(self, key):\n",
        "        self.key = key\n",
        "\n",
        "A = [Item(5), Item(3), Item(9), Item(1)]\n",
        "result = sequential_search(A, 3, 0, 3)\n",
        "print(result)\n"
      ],
      "metadata": {
        "id": "302CV91mc03J",
        "colab": {
          "base_uri": "https://localhost:8080/"
        },
        "outputId": "d1ece884-2f5d-4dcd-aa7a-c0bd88d182b8"
      },
      "execution_count": 13,
      "outputs": [
        {
          "output_type": "stream",
          "name": "stdout",
          "text": [
            "1\n"
          ]
        }
      ]
    },
    {
      "cell_type": "code",
      "source": [
        "B = ['사과','딸기','파인애플','포도']\n",
        "result_B = sequential_search_(B, '파인애플', 0, len(B)-1)\n",
        "print(result_B)"
      ],
      "metadata": {
        "colab": {
          "base_uri": "https://localhost:8080/"
        },
        "id": "kM64Zy5oEroR",
        "outputId": "ad39d0f6-7307-48fa-bf3a-bdf2fa17b814"
      },
      "execution_count": 18,
      "outputs": [
        {
          "output_type": "stream",
          "name": "stdout",
          "text": [
            "2\n"
          ]
        }
      ]
    },
    {
      "cell_type": "code",
      "source": [
        "B = ['사과','딸기','파인애플','포도']\n",
        "result_B = sequential_search_(B, '바나나', 0, len(B)-1)\n",
        "print(result_B)"
      ],
      "metadata": {
        "colab": {
          "base_uri": "https://localhost:8080/"
        },
        "id": "Hc3ZeTBkFc1A",
        "outputId": "4697f501-762d-4ea9-f11b-f6291ac7da20"
      },
      "execution_count": 19,
      "outputs": [
        {
          "output_type": "stream",
          "name": "stdout",
          "text": [
            "None\n"
          ]
        }
      ]
    },
    {
      "cell_type": "markdown",
      "source": [
        "**이진 탐색**\n",
        "- 정렬 된 테이블 탐색에 적합\n",
        "- 중앙값 조사하여 찾는 값이 위치 방향 판단"
      ],
      "metadata": {
        "id": "M_eqN9d9dmkw"
      }
    },
    {
      "cell_type": "code",
      "source": [
        "def binary_search(A,key,low,high) :\n",
        "    if (low <= high) :\n",
        "        middle = (low+high) // 2 #나누기 몫을 정수로 가지고 오기\n",
        "        if key == A[middle].key :\n",
        "            return middle\n",
        "        elif (key<A[middle].key) :\n",
        "            return binary_search(A,key,low,middle-1)\n",
        "        else :\n",
        "            return binary_search(A, key, middle+1, high)\n",
        "    return None\n",
        "\n"
      ],
      "metadata": {
        "id": "_EzeyZDod67X"
      },
      "execution_count": 22,
      "outputs": []
    },
    {
      "cell_type": "code",
      "source": [
        "def binary_search_iter(A,key,low,high)  :\n",
        "    while (low <= high) :\n",
        "        middle = (low + high) // 2\n",
        "        if key == A[middle] :\n",
        "            return middle\n",
        "        elif (key > A[middle]) :\n",
        "            low = middle +1\n",
        "        else :\n",
        "            high = middle -1\n",
        "    return None\n"
      ],
      "metadata": {
        "id": "-Fij61Raem3X"
      },
      "execution_count": 20,
      "outputs": []
    },
    {
      "cell_type": "code",
      "source": [
        "A= [1,20,30,35,60,92,100]"
      ],
      "metadata": {
        "id": "m4yguQqLhTIO"
      },
      "execution_count": 24,
      "outputs": []
    },
    {
      "cell_type": "code",
      "source": [
        "binary_search_iter(A,60,0,len(A))"
      ],
      "metadata": {
        "colab": {
          "base_uri": "https://localhost:8080/"
        },
        "id": "5oV1k4EDhYbe",
        "outputId": "998433a7-b642-43b3-d4f9-bb05ac81f4fa"
      },
      "execution_count": 25,
      "outputs": [
        {
          "output_type": "execute_result",
          "data": {
            "text/plain": [
              "4"
            ]
          },
          "metadata": {},
          "execution_count": 25
        }
      ]
    },
    {
      "cell_type": "code",
      "source": [
        "key = 30  # 찾고자 하는 값\n",
        "low = 0  # 탐색 시작 인덱스\n",
        "high = len(A) - 1  # 탐색 종료 인덱스\n",
        "\n",
        "result = binary_search_iter(A, key, low, high)\n",
        "\n",
        "if result is not None:\n",
        "    print(f\"Key {key} found at index {result}\")\n",
        "else:\n",
        "    print(\"Key {} not found\".format(key))"
      ],
      "metadata": {
        "colab": {
          "base_uri": "https://localhost:8080/"
        },
        "id": "weImubpxh1wW",
        "outputId": "126f9347-ee0e-4eeb-afb3-ffb1a116b995"
      },
      "execution_count": 27,
      "outputs": [
        {
          "output_type": "stream",
          "name": "stdout",
          "text": [
            "Key 30 found at index 2\n"
          ]
        }
      ]
    },
    {
      "cell_type": "markdown",
      "source": [
        "보간탐색\n",
        "- 이진 탐색의 일종\n",
        "- 리스트를 불균등하게 분할하여 탐색"
      ],
      "metadata": {
        "id": "Nfb9MgdvpswZ"
      }
    },
    {
      "cell_type": "code",
      "source": [
        "def interpolation_search(arr, key):\n",
        "    low = 0\n",
        "    high = len(arr) - 1\n",
        "\n",
        "    while low <= high and key >= arr[low] and key <= arr[high]:\n",
        "        if low == high:\n",
        "            if arr[low] == key:\n",
        "                return low\n",
        "            return -1\n",
        "\n",
        "        # 예상 인덱스 계산\n",
        "        pos = low + ((key - arr[low]) * (high - low)) // (arr[high] - arr[low])\n",
        "\n",
        "        # key가 80인 경우\n",
        "        # 0 + ((80 - 10)) * (9-0)) // (100 - 10)\n",
        "        # -> 0 + 70 * 9 // 90\n",
        "        # -> 630/90\n",
        "        # -> 7\n",
        "\n",
        "\n",
        "        # key와 값 비교\n",
        "        if arr[pos] == key:\n",
        "            return pos\n",
        "        elif arr[pos] < key:\n",
        "            low = pos + 1\n",
        "        else:\n",
        "            high = pos - 1\n",
        "\n",
        "    return -1\n",
        "\n",
        "\n",
        "\n"
      ],
      "metadata": {
        "id": "jc18euNGrrxx"
      },
      "execution_count": 37,
      "outputs": []
    },
    {
      "cell_type": "code",
      "source": [
        "# 예제\n",
        "A = [10, 20, 30, 40, 50, 60, 70, 80, 90, 100]\n",
        "key = 80\n",
        "print(interpolation_search(A, key))\n",
        "print(interpolation_search(A,30))\n",
        "print(interpolation_search(A,31))"
      ],
      "metadata": {
        "id": "slIppZosr1G5",
        "colab": {
          "base_uri": "https://localhost:8080/"
        },
        "outputId": "6cd1515b-afb0-4350-9579-f4a952b7067c"
      },
      "execution_count": 41,
      "outputs": [
        {
          "output_type": "stream",
          "name": "stdout",
          "text": [
            "7\n",
            "2\n",
            "-1\n"
          ]
        }
      ]
    }
  ]
}